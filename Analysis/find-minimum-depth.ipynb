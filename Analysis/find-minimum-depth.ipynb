{
 "metadata": {
  "name": ""
 },
 "nbformat": 3,
 "nbformat_minor": 0,
 "worksheets": [
  {
   "cells": [
    {
     "cell_type": "code",
     "collapsed": false,
     "input": [
      "def extract_quantities(line, key):\n",
      "    fullname = line.partition(': ')[2]\n",
      "    index = int(line.split(' ')[2])\n",
      "    return fullname, index"
     ],
     "language": "python",
     "metadata": {},
     "outputs": [],
     "prompt_number": 1
    },
    {
     "cell_type": "code",
     "collapsed": false,
     "input": [
      "import os\n",
      "import numpy as np\n",
      "\n",
      "\n",
      "DIRECTORY = '../4_derive'\n",
      "QUANTITIES = {\n",
      "    'prDM': 'pressure',\n",
      "}\n",
      "            \n",
      "index = {}\n",
      "fullname = {}\n",
      "\n",
      "#filenames = ['FK009A_CTD005_20130820.cnv']\n",
      "filenames = [f for f in os.listdir(DIRECTORY) if f.startswith('FK')]\n",
      "for filename in sorted(filenames):\n",
      "    f = open(os.path.join(DIRECTORY, filename), 'rt')\n",
      "    for line in f:\n",
      "        line = line.strip()\n",
      "        if line.startswith('*'):\n",
      "            if line == '*END*':\n",
      "                break\n",
      "        elif line.startswith('# name'):     \n",
      "            for key,value in QUANTITIES.items():\n",
      "                if key in line:\n",
      "                    fullname[value], index[value] = extract_quantities(line, key) \n",
      "        \n",
      "    thedata = np.loadtxt(f).transpose()\n",
      "    print filename, thedata[index['pressure'],0:10000].argmin()\n",
      "    close()\n",
      "    "
     ],
     "language": "python",
     "metadata": {},
     "outputs": [
      {
       "output_type": "stream",
       "stream": "stdout",
       "text": [
        "FK009A_CTD002_20130819.cnv 2155\n",
        "FK009A_CTD003_20130819.cnv"
       ]
      },
      {
       "output_type": "stream",
       "stream": "stdout",
       "text": [
        " 63\n",
        "FK009A_CTD004_20130819.cnv"
       ]
      },
      {
       "output_type": "stream",
       "stream": "stdout",
       "text": [
        " 1410\n",
        "FK009A_CTD005_20130820.cnv"
       ]
      },
      {
       "output_type": "stream",
       "stream": "stdout",
       "text": [
        " 1212\n",
        "FK009A_CTD006_20130820.cnv"
       ]
      },
      {
       "output_type": "stream",
       "stream": "stdout",
       "text": [
        " 374\n",
        "FK009A_CTD007_20130820.cnv"
       ]
      },
      {
       "output_type": "stream",
       "stream": "stdout",
       "text": [
        " 443\n",
        "FK009A_CTD008_20130820.cnv"
       ]
      },
      {
       "output_type": "stream",
       "stream": "stdout",
       "text": [
        " 3093\n",
        "FK009A_CTD009_20130820.cnv"
       ]
      },
      {
       "output_type": "stream",
       "stream": "stdout",
       "text": [
        " 0\n",
        "FK009A_CTD010_20130820.cnv"
       ]
      },
      {
       "output_type": "stream",
       "stream": "stdout",
       "text": [
        " 272\n",
        "FK009A_CTD011_20130820.cnv"
       ]
      },
      {
       "output_type": "stream",
       "stream": "stdout",
       "text": [
        " 174\n",
        "FK009A_CTD012_20130820.cnv"
       ]
      },
      {
       "output_type": "stream",
       "stream": "stdout",
       "text": [
        " 4253\n",
        "FK009A_CTD013_20130820.cnv"
       ]
      },
      {
       "output_type": "stream",
       "stream": "stdout",
       "text": [
        " 43\n",
        "FK009A_CTD014_20130820.cnv"
       ]
      },
      {
       "output_type": "stream",
       "stream": "stdout",
       "text": [
        " 321\n",
        "FK009A_CTD015_20130820.cnv"
       ]
      },
      {
       "output_type": "stream",
       "stream": "stdout",
       "text": [
        " 403\n",
        "FK009A_CTD016_20130821.cnv"
       ]
      },
      {
       "output_type": "stream",
       "stream": "stdout",
       "text": [
        " 2521\n",
        "FK009A_CTD017_20130821.cnv"
       ]
      },
      {
       "output_type": "stream",
       "stream": "stdout",
       "text": [
        " 3112\n",
        "FK009A_CTD018_20130821.cnv"
       ]
      },
      {
       "output_type": "stream",
       "stream": "stdout",
       "text": [
        " 637\n",
        "FK009A_CTD019_20130822.cnv"
       ]
      },
      {
       "output_type": "stream",
       "stream": "stdout",
       "text": [
        " 772\n",
        "FK009A_CTD020_20130822.cnv"
       ]
      },
      {
       "output_type": "stream",
       "stream": "stdout",
       "text": [
        " 318\n",
        "FK009A_CTD021_20130822.cnv"
       ]
      },
      {
       "output_type": "stream",
       "stream": "stdout",
       "text": [
        " 685\n",
        "FK009A_CTD022_20130822.cnv"
       ]
      },
      {
       "output_type": "stream",
       "stream": "stdout",
       "text": [
        " 4036\n",
        "FK009A_CTD023_20130822.cnv"
       ]
      },
      {
       "output_type": "stream",
       "stream": "stdout",
       "text": [
        " 2663\n",
        "FK009A_CTD024_20130822.cnv"
       ]
      },
      {
       "output_type": "stream",
       "stream": "stdout",
       "text": [
        " 2908\n",
        "FK009A_CTD025_20130822.cnv"
       ]
      },
      {
       "output_type": "stream",
       "stream": "stdout",
       "text": [
        " 4086\n",
        "FK009A_CTD026_20130823.cnv"
       ]
      },
      {
       "output_type": "stream",
       "stream": "stdout",
       "text": [
        " 623\n",
        "FK009A_CTD027_20130823.cnv"
       ]
      },
      {
       "output_type": "stream",
       "stream": "stdout",
       "text": [
        " 309\n",
        "FK009A_CTD028_20130823.cnv"
       ]
      },
      {
       "output_type": "stream",
       "stream": "stdout",
       "text": [
        " 614\n",
        "FK009A_CTD029_20130824.cnv"
       ]
      },
      {
       "output_type": "stream",
       "stream": "stdout",
       "text": [
        " 260\n",
        "FK009A_CTD030_20130825.cnv"
       ]
      },
      {
       "output_type": "stream",
       "stream": "stdout",
       "text": [
        " 494\n",
        "FK009A_CTD031_20130826.cnv"
       ]
      },
      {
       "output_type": "stream",
       "stream": "stdout",
       "text": [
        " 108\n",
        "FK009A_CTD032_20130826.cnv"
       ]
      },
      {
       "output_type": "stream",
       "stream": "stdout",
       "text": [
        " 282\n",
        "FK009A_CTD033_20130826.cnv"
       ]
      },
      {
       "output_type": "stream",
       "stream": "stdout",
       "text": [
        " 3537\n",
        "FK009A_CTD034_20130826.cnv"
       ]
      },
      {
       "output_type": "stream",
       "stream": "stdout",
       "text": [
        " 424\n",
        "FK009A_CTD035_20130827.cnv"
       ]
      },
      {
       "output_type": "stream",
       "stream": "stdout",
       "text": [
        " 739\n",
        "FK009A_CTD036_20130827.cnv"
       ]
      },
      {
       "output_type": "stream",
       "stream": "stdout",
       "text": [
        " 2305\n",
        "FK009A_CTD037_20130827.cnv"
       ]
      },
      {
       "output_type": "stream",
       "stream": "stdout",
       "text": [
        " 2281\n",
        "FK009A_CTD038_20130827.cnv"
       ]
      },
      {
       "output_type": "stream",
       "stream": "stdout",
       "text": [
        " 51\n",
        "FK009A_CTD039_20130827.cnv"
       ]
      },
      {
       "output_type": "stream",
       "stream": "stdout",
       "text": [
        " 205\n",
        "FK009A_CTD040_20130830.cnv"
       ]
      },
      {
       "output_type": "stream",
       "stream": "stdout",
       "text": [
        " 968\n"
       ]
      }
     ],
     "prompt_number": 13
    },
    {
     "cell_type": "code",
     "collapsed": false,
     "input": [
      "\n"
     ],
     "language": "python",
     "metadata": {},
     "outputs": [],
     "prompt_number": 12
    },
    {
     "cell_type": "code",
     "collapsed": false,
     "input": [],
     "language": "python",
     "metadata": {},
     "outputs": []
    }
   ],
   "metadata": {}
  }
 ]
}