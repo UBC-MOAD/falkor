{
 "metadata": {
  "name": ""
 },
 "nbformat": 3,
 "nbformat_minor": 0,
 "worksheets": [
  {
   "cells": [
    {
     "cell_type": "code",
     "collapsed": false,
     "input": [
      "import os\n",
      "DIRECTORY = '../1_cnv/'\n",
      "separator = '&'\n",
      "endline = '\\\\\\\\'\n",
      "\n",
      "filenames = [f for f in os.listdir(DIRECTORY) if f.startswith('FK')]\n",
      "for filename in sorted(filenames):\n",
      "    f=open(os.path.join(DIRECTORY, filename), 'rt')\n",
      "    searching = True\n",
      "    count = 0\n",
      "\n",
      "# loop over lines\n",
      "    while searching:\n",
      "        line = f.readline()\n",
      "        count = count + 1\n",
      "        if count == 100:\n",
      "            searching = False\n",
      "# find the line starting with NMEA, get latitude, longitude or UTC\n",
      "        if line.startswith('* NMEA'):\n",
      "            if 'Latitude' in line:\n",
      "                latitude = line[line.find('=')+2:]        \n",
      "            elif 'Longitude' in line:\n",
      "                longitude = line[line.find('=')+2:]\n",
      "            elif 'Time' in line:\n",
      "                time = line[line.find('=')+2:]\n",
      "# find station\n",
      "        elif line.startswith('** Station'):\n",
      "            station = line[line.find(':')+2:]\n",
      "            searching = False\n",
      "    station = station.strip()\n",
      "    time = time.strip()\n",
      "    latitude = latitude.strip()\n",
      "    longitude = longitude.strip()\n",
      "    print filename, separator, station, separator, time, separator, latitude, separator, longitude, separator, endline\n",
      "    f.close()"
     ],
     "language": "python",
     "metadata": {},
     "outputs": [
      {
       "output_type": "stream",
       "stream": "stdout",
       "text": [
        "FK009A_CTD002_20130819.cnv & JFG4a & Aug 19 2013 17:16:41 & 48 29.18 N & 124 41.11 W & \\\\\n",
        "FK009A_CTD003_20130819.cnv & LB08 & Aug 19 2013 21:05:36 & 48 25.29 N & 125 28.62 W & \\\\\n",
        "FK009A_CTD004_20130819.cnv & BCC0 & Aug 19 2013 22:58:10 & 48 27.19 N & 125 47.76 W & \\\\\n",
        "FK009A_CTD005_20130820.cnv & BCC1 & Aug 20 2013 00:02:57 & 48 25.79 N & 125 50.67 W & \\\\\n",
        "FK009A_CTD006_20130820.cnv & BCC2 & Aug 20 2013 00:47:16 & 48 24.36 N & 125 53.59 W & \\\\\n",
        "FK009A_CTD007_20130820.cnv & BCC3 & Aug 20 2013 01:53:03 & 48 22.51 N & 125 56.25 W & \\\\\n",
        "FK009A_CTD008_20130820.cnv & BCC4 & Aug 20 2013 03:35:31 & 48 20.52 N & 125 59.21 W & \\\\\n",
        "FK009A_CTD009_20130820.cnv & BCC5 & Aug 20 2013 04:59:49 & 48 18.30 N & 126 03.32 W & \\\\\n",
        "FK009A_CTD010_20130820.cnv & BCC6 & Aug 20 2013 07:26:03 & 48 16.15 N & 126 07.41 W & \\\\\n",
        "FK009A_CTD011_20130820.cnv & BCC7 & Aug 20 2013 09:04:09 & 48 13.95 N & 126 11.50 W & \\\\\n",
        "FK009A_CTD012_20130820.cnv & LC12 & Aug 20 2013 14:07:47 & 48 14.97 N & 126 39.93 W & \\\\\n",
        "FK009A_CTD013_20130820.cnv & LC11 & Aug 20 2013 18:24:28 & 48 18.94 N & 126 26.67 W & \\\\\n",
        "FK009A_CTD014_20130820.cnv & LC10 & Aug 20 2013 20:59:06 & 48 22.34 N & 126 20.11 W & \\\\\n",
        "FK009A_CTD015_20130820.cnv & LC09 & Aug 20 2013 22:48:22 & 48 25.88 N & 126 13.68 W & \\\\\n",
        "FK009A_CTD016_20130821.cnv & LC08 & Aug 21 2013 00:43:18 & 48 29.37 N & 126 07.17 W & \\\\\n",
        "FK009A_CTD017_20130821.cnv & LC07 & Aug 21 2013 02:13:45 & 48 32.95 N & 126 00.46 W & \\\\\n",
        "FK009A_CTD018_20130821.cnv & LC06 & Aug 21 2013 03:21:12 & 48 36.44 N & 125 53.99 W & \\\\\n",
        "FK009A_CTD019_20130822.cnv & RD01 & Aug 22 2013 00:31:45 & 48 00.28 N & 125 21.83 W & \\\\\n",
        "FK009A_CTD020_20130822.cnv & RD02 & Aug 22 2013 02:27:41 & 48 06.54 N & 125 15.11 W & \\\\\n",
        "FK009A_CTD021_20130822.cnv & MB07 & Aug 22 2013 07:08:54 & 48 28.20 N & 125 19.49 W & \\\\\n",
        "FK009A_CTD022_20130822.cnv & MB08 & Aug 22 2013 15:14:47 & 48 32.21 N & 125 21.41 W & \\\\\n",
        "FK009A_CTD023_20130822.cnv & MB14 & Aug 22 2013 16:56:27 & 48 39.91 N & 125 34.44 W & \\\\\n",
        "FK009A_CTD024_20130822.cnv & RAD08 & Aug 22 2013 17:40:36 & 48 39.60 N & 125 35.91 W & \\\\\n",
        "FK009A_CTD025_20130822.cnv & MB16 & Aug 22 2013 20:02:54 & 48 47.95 N & 125 15.93 W & \\\\\n",
        "FK009A_CTD026_20130823.cnv & LC05-A & Aug 23 2013 01:39:36 & 48 43.59 N & 125 42.77 W & \\\\\n",
        "FK009A_CTD027_20130823.cnv & LC08 & Aug 23 2013 05:04:48 & 48 29.45 N & 126 07.09 W & \\\\\n",
        "FK009A_CTD028_20130823.cnv & RD04 & Aug 23 2013 19:59:51 & 48 14.70 N & 125 01.21 W & \\\\\n",
        "FK009A_CTD029_20130824.cnv & RD02 & Aug 24 2013 06:23:34 & 48 06.59 N & 125 15.03 W & \\\\\n",
        "FK009A_CTD030_20130825.cnv & BCC4 & Aug 25 2013 23:44:51 & 48 20.50 N & 125 59.23 W & \\\\\n",
        "FK009A_CTD031_20130826.cnv & BCC3 & Aug 26 2013 00:56:44 & 48 22.50 N & 125 56.29 W & \\\\\n",
        "FK009A_CTD032_20130826.cnv & BCC2 & Aug 26 2013 01:56:57 & 48 24.40 N & 125 53.56 W & \\\\\n",
        "FK009A_CTD033_20130826.cnv & MB16 & Aug 26 2013 16:26:48 & 48 47.60 N & 125 15.91 W & \\\\\n",
        "FK009A_CTD034_20130826.cnv & Susan01 & Aug 26 2013 21:47:53 & 48 39.37 N & 125 34.59 W & \\\\\n",
        "FK009A_CTD035_20130827.cnv & MB07 & Aug 27 2013 00:14:51 & 48 28.31 N & 125 19.44 W & \\\\\n",
        "FK009A_CTD036_20130827.cnv & NN01 & Aug 27 2013 17:18:49 & 48 20.23 N & 125 32.20 W & \\\\\n",
        "FK009A_CTD037_20130827.cnv & NN02 & Aug 27 2013 18:59:00 & 48 21.32 N & 125 27.82 W & \\\\\n",
        "FK009A_CTD038_20130827.cnv & NN03 & Aug 27 2013 20:17:29 & 48 21.13 N & 125 18.85 W & \\\\\n",
        "FK009A_CTD039_20130827.cnv & TC01 & Aug 27 2013 23:23:36 & 48 16.04 N & 125 12.64 W & \\\\\n",
        "FK009A_CTD040_20130830.cnv & RD05 & Aug 30 2013 19:46:04 & 48 25.23 N & 124 50.07 W & \\\\\n"
       ]
      }
     ],
     "prompt_number": 2
    },
    {
     "cell_type": "code",
     "collapsed": false,
     "input": [],
     "language": "python",
     "metadata": {},
     "outputs": [
      {
       "metadata": {},
       "output_type": "pyout",
       "prompt_number": 7,
       "text": [
        "'* Sea-Bird SBE 9 Data File:\\n'"
       ]
      }
     ],
     "prompt_number": 7
    },
    {
     "cell_type": "code",
     "collapsed": false,
     "input": [],
     "language": "python",
     "metadata": {},
     "outputs": [
      {
       "metadata": {},
       "output_type": "pyout",
       "prompt_number": 7,
       "text": [
        "'* Sea-Bird SBE 9 Data File:\\n'"
       ]
      }
     ],
     "prompt_number": 7
    },
    {
     "cell_type": "code",
     "collapsed": false,
     "input": [
      "if line[2:6] == 'NMEA':\n",
      "    print line\n"
     ],
     "language": "python",
     "metadata": {},
     "outputs": [
      {
       "output_type": "stream",
       "stream": "stdout",
       "text": [
        "* NMEA Latitude = 48 25.79 N\n",
        "\n"
       ]
      }
     ],
     "prompt_number": 11
    },
    {
     "cell_type": "code",
     "collapsed": false,
     "input": [
      "line"
     ],
     "language": "python",
     "metadata": {},
     "outputs": [
      {
       "metadata": {},
       "output_type": "pyout",
       "prompt_number": 22,
       "text": [
        "'* NMEA Latitude = 48 25.79 N\\r\\n'"
       ]
      }
     ],
     "prompt_number": 22
    },
    {
     "cell_type": "code",
     "collapsed": false,
     "input": [],
     "language": "python",
     "metadata": {},
     "outputs": []
    }
   ],
   "metadata": {}
  }
 ]
}