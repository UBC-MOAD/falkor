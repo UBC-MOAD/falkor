{
 "metadata": {
  "name": ""
 },
 "nbformat": 3,
 "nbformat_minor": 0,
 "worksheets": [
  {
   "cells": [
    {
     "cell_type": "code",
     "collapsed": false,
     "input": [
      "def extract_quantities(line, key):\n",
      "    fullname = line.partition(': ')[2]\n",
      "    index = int(line.split(' ')[2])\n",
      "    return fullname, index"
     ],
     "language": "python",
     "metadata": {},
     "outputs": [],
     "prompt_number": 1
    },
    {
     "cell_type": "code",
     "collapsed": false,
     "input": [
      "import os\n",
      "import numpy as np\n",
      "\n",
      "texfile = open('sample_list.csv','w')\n",
      "texfile.write('\\documentclass{article} \\n')\n",
      "texfile.write('\\usepackage{fullpage} \\n \\usepackage{longtable} \\n \\\\begin{document} \\n')\n",
      "texfile.write ('\\section*{Water Sample List} \\n')\n",
      "\n",
      "\n",
      "DIRECTORY = '../1_cnv'\n",
      "QUANTITIES = {\n",
      "    'prDM': 'pressure',\n",
      "    'sal00': 'salinity1',\n",
      "    't090C': 'temperature1',\n",
      "    't190C': 'temperature2',\n",
      "    'nbf': 'bottle number',\n",
      "}\n",
      "SEPARATOR = ','\n",
      "ENDLINE = '\\\\\\\\'\n",
      "            \n",
      "index = {}\n",
      "fullname = {}\n",
      "sampleno = 0\n",
      "\n",
      "#filenames = ['FK009A_CTD002_20130819.ros']\n",
      "filenames = [f for f in os.listdir(DIRECTORY) if f.startswith('FK') and f.endswith('.ros')]\n",
      "for filename in sorted(filenames):\n",
      "    f = open(os.path.join(DIRECTORY, filename), 'rt')\n",
      "    for line in f:\n",
      "        line = line.strip()\n",
      "        if line.startswith('*'):\n",
      "            # header line, look for useful info\n",
      "            if 'Time' in line:\n",
      "                time = line.partition(' = ')[2]\n",
      "            if '** Station' in line:\n",
      "                station = line.partition(': ')[2]\n",
      "                print line\n",
      "            if line == '*END*':\n",
      "                break\n",
      "        elif line.startswith('# name'):     \n",
      "            # comment line, look for table quantities information\n",
      "                for key,value in QUANTITIES.items():\n",
      "                    if key in line:\n",
      "                        fullname[value], index[value] = extract_quantities(line, key) \n",
      "    \n",
      "    if sampleno == 0:\n",
      "        texfile.write('Pressure :'+fullname['pressure']+'\\\\\\\\ \\n')\n",
      "        texfile.write('Salinity :'+fullname['salinity1']+'\\\\\\\\ \\n')\n",
      "        texfile.write('Temperature :'+fullname['temperature1']+'\\\\\\\\ \\n \\n')\n",
      "        texfile.write('\\\\begin{longtable}{ccllrrr} \\n \\hline \\n \\multicolumn{7}{c} \\n')\n",
      "        texfile.write('{} \\\\\\\\ \\n')\n",
      "        texfile.write(SEPARATOR.join(['{\\\\bf Sample No.}','{\\\\bf Bottle No.}','{\\\\bf Station}',\n",
      "               '{\\\\bf Date/Time (UTC)}','{\\\\bf Pressure}', \n",
      "               '{\\\\bf Salinity}','{\\\\bf Temperature}'+ENDLINE+'\\n']))\n",
      "        texfile.write('\\\\hline \\n')\n",
      "        texfile.write('\\endhead \\n')\n",
      "        \n",
      "    print station\n",
      "    if station=='RAD08':\n",
      "        sampleno = 181-1\n",
      "    if station=='MB16' and sampleno < 200:\n",
      "        sampleno = 177-1\n",
      "    if station=='LC05-A':\n",
      "        sampleno = 185-1\n",
      "    if station=='RD05':\n",
      "        sampleno = 287-1\n",
      "    \n",
      "    thedata = np.loadtxt(f).transpose()\n",
      "    \n",
      "    numberbottles = int(np.max(thedata[index['bottle number'],:]))\n",
      "    for bottle in range(numberbottles):\n",
      "        mask = thedata[index['bottle number']]==bottle+1\n",
      "        pressure = thedata[index['pressure'],mask].mean()\n",
      "        salinity = thedata[index['salinity1'],mask].mean()\n",
      "        temperature = thedata[index['temperature2'],mask].mean()               \n",
      "        if station=='BCC7' and bottle+1==24:\n",
      "            # skip, extra bottle fired in case 23 did not go\n",
      "            sampleno = sampleno\n",
      "        elif station=='RD05' and bottle+1>14:\n",
      "            # skip, extra bottles fired to close rosette\n",
      "            sampleno = sampleno\n",
      "        else:\n",
      "            sampleno += 1\n",
      "            texfile.write(SEPARATOR.join(['{}'.format(sampleno), '{}'.format(bottle+1), station, \n",
      "                                          time, '{0:.2f}'.format(pressure), \n",
      "                                          '{0:.2f}'.format(salinity),'{0:.2f}'.format(temperature)+ENDLINE+'\\n']))\n",
      "    texfile.write('\\\\hline \\n')\n",
      "    \n",
      "    f.close()\n",
      "texfile.write('\\n \\end{longtable} \\n \\end{document}')\n",
      "texfile.close()"
     ],
     "language": "python",
     "metadata": {},
     "outputs": [
      {
       "output_type": "stream",
       "stream": "stdout",
       "text": [
        "** Station: JFG4a\n",
        "JFG4a\n",
        "** Station: LB08\n",
        "LB08\n",
        "** Station: BCC0\n",
        "BCC0\n",
        "** Station: BCC2\n",
        "BCC2\n",
        "** Station: BCC3\n",
        "BCC3\n",
        "** Station: BCC5"
       ]
      },
      {
       "output_type": "stream",
       "stream": "stdout",
       "text": [
        "\n",
        "BCC5\n",
        "** Station: BCC7\n",
        "BCC7\n",
        "** Station: LC12\n",
        "LC12\n",
        "** Station: LC11"
       ]
      },
      {
       "output_type": "stream",
       "stream": "stdout",
       "text": [
        "\n",
        "LC11\n",
        "** Station: LC09\n",
        "LC09\n",
        "** Station: LC08\n",
        "LC08\n",
        "** Station: LC06\n",
        "LC06\n",
        "** Station: RD01"
       ]
      },
      {
       "output_type": "stream",
       "stream": "stdout",
       "text": [
        "\n",
        "RD01\n",
        "** Station: RD02\n",
        "RD02\n",
        "** Station: MB07\n",
        "MB07\n",
        "** Station: MB08\n",
        "MB08\n",
        "** Station: MB14\n",
        "MB14\n",
        "** Station: RAD08\n",
        "RAD08\n",
        "** Station: MB16\n",
        "MB16\n",
        "** Station: LC05-A\n",
        "LC05-A\n",
        "** Station: LC08\n",
        "LC08\n",
        "** Station: RD04\n",
        "RD04\n",
        "** Station: RD02"
       ]
      },
      {
       "output_type": "stream",
       "stream": "stdout",
       "text": [
        "\n",
        "RD02\n",
        "** Station: MB16\n",
        "MB16\n",
        "** Station: Susan01\n",
        "Susan01\n",
        "** Station: MB07\n",
        "MB07\n",
        "** Station: NN01\n",
        "NN01\n",
        "** Station: NN02"
       ]
      },
      {
       "output_type": "stream",
       "stream": "stdout",
       "text": [
        "\n",
        "NN02\n",
        "** Station: NN03\n",
        "NN03\n",
        "** Station: TC01\n",
        "TC01\n",
        "** Station: RD05\n",
        "RD05\n"
       ]
      }
     ],
     "prompt_number": 15
    },
    {
     "cell_type": "code",
     "collapsed": false,
     "input": [
      "bottle = 0\n",
      "column = index['bottle number']\n",
      "mask = thedata[column]==bottle+1\n",
      "print thedata[2,mask].mean()"
     ],
     "language": "python",
     "metadata": {},
     "outputs": [
      {
       "output_type": "stream",
       "stream": "stdout",
       "text": [
        "251.108632653\n"
       ]
      }
     ],
     "prompt_number": 17
    },
    {
     "cell_type": "code",
     "collapsed": false,
     "input": [],
     "language": "python",
     "metadata": {},
     "outputs": []
    }
   ],
   "metadata": {}
  }
 ]
}